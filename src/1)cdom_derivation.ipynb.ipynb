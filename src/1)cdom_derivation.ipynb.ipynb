{
 "cells": [
  {
   "cell_type": "code",
   "execution_count": 1,
   "metadata": {},
   "outputs": [],
   "source": [
    "import xarray as xr\n",
    "import numpy as np\n",
    "import os\n",
    "from tqdm import tqdm"
   ]
  },
  {
   "cell_type": "code",
   "execution_count": 2,
   "metadata": {},
   "outputs": [],
   "source": [
    "# Input and output directories\n",
    "input_dir = r'C:\\Users\\Admin\\Desktop\\Anurag-6048 Part-3\\EOS-Source-Input-Data\\EOS-MOSAIC_INPUT-MAY-2024'\n",
    "output_dir = r'C:\\Users\\Admin\\Desktop\\Anurag-6048 Part-3\\EOS-CSV_INPUT-MAY\\MAY-RRS'"
   ]
  },
  {
   "cell_type": "code",
   "execution_count": 3,
   "metadata": {},
   "outputs": [],
   "source": [
    "# Ensure the output directory exists\n",
    "os.makedirs(output_dir, exist_ok=True)"
   ]
  },
  {
   "cell_type": "code",
   "execution_count": null,
   "metadata": {},
   "outputs": [],
   "source": [
    "# Loop through all files in the input directory\n",
    "for root, dirs, files in os.walk(input_dir):\n",
    "    for filename in tqdm(files, desc=\"Processing Files\"):\n",
    "        if filename.endswith('.nc'):\n",
    "            file_path = os.path.join(root, filename)\n",
    "            print(f\"Processing: {filename}\")\n",
    "\n",
    "            # Open the NetCDF file using xarray\n",
    "            ds = xr.open_dataset(file_path)\n",
    "\n",
    "            # Extract variables\n",
    "            rrs01 = ds['RRS01']\n",
    "            rrs05 = ds['RRS05']\n",
    "            rrs02 = ds['RRS03']\n",
    "            rrs03 = ds['RRS02']\n",
    "            rrs07 = ds['RRS07']\n",
    "\n",
    "            # Perform calculations (example: calculate RRS01 / RRS05)\n",
    "            output_x = xr.where((rrs01 > 0) & (rrs05 > 0),\n",
    "                                0.1082 * (rrs01 / rrs05) ** -0.968,\n",
    "                                np.nan)\n",
    "            \n",
    "            x1=xr.where((rrs02>0)&(rrs03>0)&(rrs05>0),((rrs03/rrs05)-rrs02/(rrs03/rrs05)+rrs02),np.nan)\n",
    "\n",
    "            x2=np.power(10,(-0.1069*x1*x1*x1+0.6259*x1*x1-1.3936*x1+0.919))\n",
    "\n",
    "            x2s= xr.where(rrs02>0,\n",
    "                      np.power(10, (-0.1069 * rrs02 * rrs02 * rrs02 + 0.6259 * rrs02 * rrs02 - 1.3936 * rrs02 + 0.919)),\n",
    "                      np.nan)\n",
    "\n",
    "            rt=np.power(10,x2)\n",
    "\n",
    "            docr5r7 = xr.where((rrs05 > 0) & (rrs07 > 0),89.86*np.exp((0.27)*(rrs07/ rrs05)),np.nan)\n",
    "\n",
    "            # Add the new variable to the dataset\n",
    "            ds['CDOM'] = output_x\n",
    "            ds['X1'] = x1\n",
    "            ds['X2'] = x2\n",
    "            ds['RT'] = rt\n",
    "            ds['X2-S'] = x2s\n",
    "            ds['DOC'] = docr5r7\n",
    "\n",
    "            # Write the updated dataset to a new NetCDF file\n",
    "            output_file = os.path.join(output_dir, f\"{filename.split('.nc')[0]}_cdom_rt_processed.nc\")\n",
    "            ds.to_netcdf(output_file)\n",
    "            print(f\"Output file generated: {output_file}\")\n",
    "\n",
    "            # Close the dataset\n",
    "            ds.close()"
   ]
  },
  {
   "cell_type": "code",
   "execution_count": null,
   "metadata": {},
   "outputs": [],
   "source": []
  }
 ],
 "metadata": {
  "kernelspec": {
   "display_name": "Python 3 (ipykernel)",
   "language": "python",
   "name": "python3"
  },
  "language_info": {
   "codemirror_mode": {
    "name": "ipython",
    "version": 3
   },
   "file_extension": ".py",
   "mimetype": "text/x-python",
   "name": "python",
   "nbconvert_exporter": "python",
   "pygments_lexer": "ipython3",
   "version": "3.9.13"
  }
 },
 "nbformat": 4,
 "nbformat_minor": 2
}
